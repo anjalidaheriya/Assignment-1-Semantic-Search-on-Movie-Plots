{
 "cells": [
  {
   "cell_type": "markdown",
   "id": "10a3d1e0",
   "metadata": {},
   "source": [
    "# Movie Search Project Results\n",
    "This notebook demonstrates how to load movie data, search for movies, and display results using the code from the project."
   ]
  },
  {
   "cell_type": "code",
   "execution_count": 9,
   "id": "2befc1b8",
   "metadata": {},
   "outputs": [
    {
     "name": "stdout",
     "output_type": "stream",
     "text": [
      "All libraries imported successfully!\n"
     ]
    }
   ],
   "source": [
    "# Install required packages if not already installed\n",
    "# !pip install sentence-transformers pandas scikit-learn\n",
    "\n",
    "# Import required libraries\n",
    "import pandas as pd\n",
    "from sentence_transformers import SentenceTransformer\n",
    "from sklearn.metrics.pairwise import cosine_similarity\n",
    "import numpy as np\n",
    "\n",
    "print(\"All libraries imported successfully!\")"
   ]
  },
  {
   "cell_type": "code",
   "execution_count": 10,
   "id": "acc2fcab",
   "metadata": {},
   "outputs": [
    {
     "name": "stdout",
     "output_type": "stream",
     "text": [
      "Dataset loaded successfully! Shape: (3, 2)\n",
      "\n",
      "First few rows:\n",
      "              title                                               plot\n",
      "0         Spy Movie  A spy navigates intrigue in Paris to stop a te...\n",
      "1  Romance in Paris  A couple falls in love in Paris under romantic...\n",
      "2      Action Flick  A high-octane chase through New York with expl...\n",
      "\n",
      "Dataset information:\n",
      "<class 'pandas.core.frame.DataFrame'>\n",
      "RangeIndex: 3 entries, 0 to 2\n",
      "Data columns (total 2 columns):\n",
      " #   Column  Non-Null Count  Dtype \n",
      "---  ------  --------------  ----- \n",
      " 0   title   3 non-null      object\n",
      " 1   plot    3 non-null      object\n",
      "dtypes: object(2)\n",
      "memory usage: 180.0+ bytes\n",
      "None\n"
     ]
    }
   ],
   "source": [
    "# Load the movies dataset\n",
    "df = pd.read_csv('movies.csv')\n",
    "\n",
    "# Display the dataset\n",
    "print(f\"Dataset loaded successfully! Shape: {df.shape}\")\n",
    "print(\"\\nFirst few rows:\")\n",
    "print(df.head())\n",
    "\n",
    "# Display dataset info\n",
    "print(\"\\nDataset information:\")\n",
    "print(df.info())"
   ]
  },
  {
   "cell_type": "code",
   "execution_count": 11,
   "id": "0c7c1fed",
   "metadata": {},
   "outputs": [
    {
     "name": "stdout",
     "output_type": "stream",
     "text": [
      "Loading Sentence Transformer model (all-MiniLM-L6-v2)...\n",
      "Model loaded successfully!\n",
      "\n",
      "Creating embeddings for movie plots...\n",
      "Embeddings created successfully!\n",
      "Number of movies: 3\n",
      "Embedding shape: (3, 384)\n",
      "Embedding dimension: 384\n",
      "Model loaded successfully!\n",
      "\n",
      "Creating embeddings for movie plots...\n",
      "Embeddings created successfully!\n",
      "Number of movies: 3\n",
      "Embedding shape: (3, 384)\n",
      "Embedding dimension: 384\n"
     ]
    }
   ],
   "source": [
    "# Load the Sentence Transformer model\n",
    "print(\"Loading Sentence Transformer model (all-MiniLM-L6-v2)...\")\n",
    "model = SentenceTransformer('all-MiniLM-L6-v2')\n",
    "print(\"Model loaded successfully!\")\n",
    "\n",
    "# Convert movie plots into embeddings\n",
    "print(\"\\nCreating embeddings for movie plots...\")\n",
    "plot_texts = df['plot'].tolist()\n",
    "embeddings = model.encode(plot_texts, convert_to_tensor=False)\n",
    "\n",
    "print(f\"Embeddings created successfully!\")\n",
    "print(f\"Number of movies: {len(df)}\")\n",
    "print(f\"Embedding shape: {embeddings.shape}\")\n",
    "print(f\"Embedding dimension: {embeddings.shape[1]}\")"
   ]
  },
  {
   "cell_type": "code",
   "execution_count": 12,
   "id": "7b5b2f5a",
   "metadata": {},
   "outputs": [
    {
     "name": "stdout",
     "output_type": "stream",
     "text": [
      "Search function implemented successfully!\n"
     ]
    }
   ],
   "source": [
    "def search_movies(query, top_n=5):\n",
    "    \"\"\"\n",
    "    Search for movies based on semantic similarity to the query.\n",
    "    \n",
    "    Args:\n",
    "        query (str): The search query\n",
    "        top_n (int): Number of top results to return (default: 5)\n",
    "    \n",
    "    Returns:\n",
    "        pd.DataFrame: DataFrame with columns: title, plot, similarity\n",
    "                     sorted by similarity score in descending order\n",
    "    \"\"\"\n",
    "    # Encode the query using the same model\n",
    "    query_embedding = model.encode([query], convert_to_tensor=False)\n",
    "    \n",
    "    # Calculate cosine similarity between query and all movie plots\n",
    "    similarities = cosine_similarity(query_embedding, embeddings).flatten()\n",
    "    \n",
    "    # Create results DataFrame\n",
    "    results = df.copy()\n",
    "    results['similarity'] = similarities\n",
    "    \n",
    "    # Sort by similarity score (descending) and get top_n results\n",
    "    results = results.sort_values('similarity', ascending=False).head(top_n)\n",
    "    \n",
    "    # Reset index for clean output\n",
    "    results = results.reset_index(drop=True)\n",
    "    \n",
    "    return results\n",
    "\n",
    "print(\"Search function implemented successfully!\")"
   ]
  },
  {
   "cell_type": "code",
   "execution_count": 13,
   "id": "20b834c0",
   "metadata": {},
   "outputs": [
    {
     "name": "stdout",
     "output_type": "stream",
     "text": [
      "Testing search with query: 'spy thriller in Paris'\n",
      "\n",
      "Top 3 results:\n",
      "              title                                               plot  \\\n",
      "0         Spy Movie  A spy navigates intrigue in Paris to stop a te...   \n",
      "1  Romance in Paris  A couple falls in love in Paris under romantic...   \n",
      "2      Action Flick  A high-octane chase through New York with expl...   \n",
      "\n",
      "   similarity  \n",
      "0    0.769684  \n",
      "1    0.388029  \n",
      "2    0.256777  \n",
      "\n",
      "Detailed results:\n",
      "\n",
      "1. Spy Movie\n",
      "   Plot: A spy navigates intrigue in Paris to stop a terrorist plot.\n",
      "   Similarity Score: 0.7697\n",
      "\n",
      "2. Romance in Paris\n",
      "   Plot: A couple falls in love in Paris under romantic circumstances.\n",
      "   Similarity Score: 0.3880\n",
      "\n",
      "3. Action Flick\n",
      "   Plot: A high-octane chase through New York with explosions.\n",
      "   Similarity Score: 0.2568\n"
     ]
    }
   ],
   "source": [
    "# Test the search function with the specified query\n",
    "test_query = \"spy thriller in Paris\"\n",
    "print(f\"Testing search with query: '{test_query}'\")\n",
    "\n",
    "# Get top 3 results\n",
    "results = search_movies(test_query, top_n=3)\n",
    "\n",
    "print(\"\\nTop 3 results:\")\n",
    "print(results[['title', 'plot', 'similarity']])\n",
    "\n",
    "# Display detailed results\n",
    "print(\"\\nDetailed results:\")\n",
    "for idx, row in results.iterrows():\n",
    "    print(f\"\\n{idx + 1}. {row['title']}\")\n",
    "    print(f\"   Plot: {row['plot']}\")\n",
    "    print(f\"   Similarity Score: {row['similarity']:.4f}\")"
   ]
  },
  {
   "cell_type": "code",
   "execution_count": 14,
   "id": "4084bcb7",
   "metadata": {},
   "outputs": [
    {
     "name": "stdout",
     "output_type": "stream",
     "text": [
      "\n",
      "==================================================\n",
      "Query: 'romantic love story'\n",
      "==================================================\n",
      "\n",
      "1. Romance in Paris\n",
      "   Plot: A couple falls in love in Paris under romantic circumstances.\n",
      "   Similarity: 0.5539\n",
      "\n",
      "2. Action Flick\n",
      "   Plot: A high-octane chase through New York with explosions.\n",
      "   Similarity: 0.1436\n",
      "\n",
      "==================================================\n",
      "Query: 'action and explosions'\n",
      "==================================================\n",
      "\n",
      "1. Action Flick\n",
      "   Plot: A high-octane chase through New York with explosions.\n",
      "   Similarity: 0.5086\n",
      "\n",
      "2. Spy Movie\n",
      "   Plot: A spy navigates intrigue in Paris to stop a terrorist plot.\n",
      "   Similarity: 0.2299\n",
      "\n",
      "==================================================\n",
      "Query: 'Paris adventure'\n",
      "==================================================\n",
      "\n",
      "1. Spy Movie\n",
      "   Plot: A spy navigates intrigue in Paris to stop a terrorist plot.\n",
      "   Similarity: 0.4705\n",
      "\n",
      "2. Romance in Paris\n",
      "   Plot: A couple falls in love in Paris under romantic circumstances.\n",
      "   Similarity: 0.3972\n",
      "\n",
      "==================================================\n",
      "Query: 'thriller movie'\n",
      "==================================================\n",
      "\n",
      "1. Action Flick\n",
      "   Plot: A high-octane chase through New York with explosions.\n",
      "   Similarity: 0.3501\n",
      "\n",
      "2. Spy Movie\n",
      "   Plot: A spy navigates intrigue in Paris to stop a terrorist plot.\n",
      "   Similarity: 0.3306\n"
     ]
    }
   ],
   "source": [
    "# Test with different queries\n",
    "test_queries = [\n",
    "    \"romantic love story\",\n",
    "    \"action and explosions\",\n",
    "    \"Paris adventure\",\n",
    "    \"thriller movie\"\n",
    "]\n",
    "\n",
    "for query in test_queries:\n",
    "    print(f\"\\n{'='*50}\")\n",
    "    print(f\"Query: '{query}'\")\n",
    "    print(f\"{'='*50}\")\n",
    "    \n",
    "    results = search_movies(query, top_n=2)\n",
    "    \n",
    "    for idx, row in results.iterrows():\n",
    "        print(f\"\\n{idx + 1}. {row['title']}\")\n",
    "        print(f\"   Plot: {row['plot']}\")\n",
    "        print(f\"   Similarity: {row['similarity']:.4f}\")"
   ]
  },
  {
   "cell_type": "code",
   "execution_count": 15,
   "id": "79d03f40",
   "metadata": {},
   "outputs": [
    {
     "data": {
      "image/png": "[encoded data removed]",
      "text/plain": [
       "<Figure size 1000x600 with 2 Axes>"
      ]
     },
     "metadata": {},
     "output_type": "display_data"
    },
    {
     "name": "stdout",
     "output_type": "stream",
     "text": [
      "\n",
      "Search Results for: 'spy thriller in Paris'\n",
      "============================================================\n",
      "           title                                                          plot  similarity\n",
      "       Spy Movie   A spy navigates intrigue in Paris to stop a terrorist plot.    0.769684\n",
      "Romance in Paris A couple falls in love in Paris under romantic circumstances.    0.388029\n",
      "    Action Flick         A high-octane chase through New York with explosions.    0.256777\n"
     ]
    }
   ],
   "source": [
    "import matplotlib.pyplot as plt\n",
    "\n",
    "# Get search results for visualization\n",
    "search_query = \"spy thriller in Paris\"\n",
    "search_results = search_movies(search_query, top_n=3)\n",
    "\n",
    "# Create the visualization\n",
    "plt.figure(figsize=(10, 6))\n",
    "\n",
    "# Bar chart showing number of results\n",
    "plt.subplot(1, 2, 1)\n",
    "plt.bar(['Search Results'], [len(search_results)])\n",
    "plt.ylabel('Number of Movies Found')\n",
    "plt.title(f\"Movies matching '{search_query}'\")\n",
    "plt.ylim(0, 5)\n",
    "\n",
    "# Bar chart showing similarity scores\n",
    "plt.subplot(1, 2, 2)\n",
    "movie_titles = search_results['title'].tolist()\n",
    "similarity_scores = search_results['similarity'].tolist()\n",
    "\n",
    "plt.bar(movie_titles, similarity_scores, color=['#FF6B6B', '#4ECDC4', '#45B7D1'])\n",
    "plt.ylabel('Similarity Score')\n",
    "plt.title('Similarity Scores by Movie')\n",
    "plt.xticks(rotation=45, ha='right')\n",
    "plt.ylim(0, 1)\n",
    "\n",
    "# Add value labels on bars\n",
    "for i, v in enumerate(similarity_scores):\n",
    "    plt.text(i, v + 0.01, f'{v:.3f}', ha='center', va='bottom')\n",
    "\n",
    "plt.tight_layout()\n",
    "plt.show()\n",
    "\n",
    "# Display the results table\n",
    "print(f\"\\nSearch Results for: '{search_query}'\")\n",
    "print(\"=\" * 60)\n",
    "print(search_results[['title', 'plot', 'similarity']].to_string(index=False))"
   ]
  },
  {
   "cell_type": "code",
   "execution_count": 21,
   "id": "a0a49bd5",
   "metadata": {},
   "outputs": [
    {
     "name": "stdout",
     "output_type": "stream",
     "text": [
      "Running Movie Search Tests...\n",
      "========================================\n",
      "\n",
      "Running test_search_movies_output_format...\n",
      "✅ test_search_movies_output_format PASSED\n",
      "\n",
      "Running test_search_movies_top_n...\n",
      "✅ test_search_movies_top_n PASSED\n",
      "\n",
      "Running test_search_movies_similarity_range...\n",
      "✅ test_search_movies_similarity_range PASSED\n",
      "\n",
      "Running test_search_movies_relevance...\n",
      "✅ test_search_movies_relevance PASSED\n",
      "\n",
      "All tests completed!\n"
     ]
    }
   ],
   "source": [
    "import sys\n",
    "import os\n",
    "\n",
    "# Add current directory to path\n",
    "sys.path.append(os.getcwd())\n",
    "\n",
    "print(\"Running Movie Search Tests...\")\n",
    "print(\"=\" * 40)\n",
    "\n",
    "# Import the test module\n",
    "import tests.test_movie_search\n",
    "\n",
    "# Run the tests manually\n",
    "test_instance = tests.test_movie_search.TestMovieSearch()\n",
    "\n",
    "# Run each test method\n",
    "test_methods = [\n",
    "    'test_search_movies_output_format',\n",
    "    'test_search_movies_top_n', \n",
    "    'test_search_movies_similarity_range',\n",
    "    'test_search_movies_relevance'\n",
    "]\n",
    "\n",
    "for method_name in test_methods:\n",
    "    print(f\"\\nRunning {method_name}...\")\n",
    "    try:\n",
    "        getattr(test_instance, method_name)()\n",
    "        print(f\"✅ {method_name} PASSED\")\n",
    "    except Exception as e:\n",
    "        print(f\"❌ {method_name} FAILED: {e}\")\n",
    "\n",
    "print(\"\\nAll tests completed!\")"
   ]
  }
 ],
 "metadata": {
  "kernelspec": {
   "display_name": "venv",
   "language": "python",
   "name": "python3"
  },
  "language_info": {
   "codemirror_mode": {
    "name": "ipython",
    "version": 3
   },
   "file_extension": ".py",
   "mimetype": "text/x-python",
   "name": "python",
   "nbconvert_exporter": "python",
   "pygments_lexer": "ipython3",
   "version": "3.11.9"
  }
 },
 "nbformat": 4,
 "nbformat_minor": 5
}
